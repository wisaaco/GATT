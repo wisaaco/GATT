{
 "cells": [
  {
   "cell_type": "code",
   "execution_count": 167,
   "metadata": {
    "slideshow": {
     "slide_type": "skip"
    }
   },
   "outputs": [],
   "source": [
    "%matplotlib inline"
   ]
  },
  {
   "cell_type": "markdown",
   "metadata": {
    "slideshow": {
     "slide_type": "slide"
    }
   },
   "source": [
    "# Bloque 6.\n",
    "\n",
    "# Series Temporales\n",
    "\n",
    "Las series temporales son muestras de valores tomadas a lo largo de un tiempo con un muestro generalmente equidistante. Por ejemplo, información económica, demografía, meteorologica, registros de seguridad, de actividad, etc.\n",
    "\n",
    "La librería Pandas gestiona las series temporales usando el indice: una fecha (datetime)\n",
    "\n",
    "El indice de un dataframe es el pilar básico de acceso a los valores, por lo cual su uso simplifica procesos de filtrado, selección, interpolación, etc.\n",
    "\n",
    "\n",
    "Enlace a la documentación: <a target=\"_blank\" href=\"https://pandas.pydata.org/pandas-docs/stable/timeseries.html\">TimeSeries</a> \n"
   ]
  },
  {
   "cell_type": "markdown",
   "metadata": {
    "slideshow": {
     "slide_type": "slide"
    }
   },
   "source": [
    "## Objetivo del bloque\n",
    "\n",
    "- Consolidar la gestión de los índices de dataframes y series \n",
    "- Manipular y transformar series temporales\n",
    "- Visualizar series temporales\n",
    "\n",
    "### Datos\n",
    "\n",
    "Usaremos varios ejemplos disponibles en la carpeta data/\n",
    "\n",
    "#### Recordad:\n",
    "\n",
    "La linea que contenga #** es una lista que debereís completar \n"
   ]
  },
  {
   "cell_type": "markdown",
   "metadata": {
    "slideshow": {
     "slide_type": "slide"
    }
   },
   "source": [
    "# Preparemos el ejemplo"
   ]
  },
  {
   "cell_type": "code",
   "execution_count": 168,
   "metadata": {
    "scrolled": true,
    "slideshow": {
     "slide_type": "-"
    }
   },
   "outputs": [
    {
     "name": "stdout",
     "output_type": "stream",
     "text": [
      "   Unnamed: 0      idDate  wind  temperature_mean\n",
      "0           0  2015/11/28   4.0              12.0\n",
      "1           1  2015/11/29   3.0              12.0\n",
      "2           2  2012/06/19  10.0              27.0\n",
      "3           3  2015/11/20   6.0              14.0\n",
      "4           4  2015/11/21  22.0              15.0\n",
      "5           5  2015/11/22   7.0              10.0\n",
      "6           6  2015/11/23  12.0               8.0\n",
      "7           7  2015/11/24   6.0               8.0\n",
      "8           8  2015/11/25   8.0               9.0\n",
      "9           9  2015/11/26  18.0              14.0\n",
      "Número total de muestras:  2801\n"
     ]
    }
   ],
   "source": [
    "#Cargamos el fichero de climaMallorca\n",
    "import pandas as pd\n",
    "df= pd.read_csv(\"data/climaMallorca.csv\")  #**\n",
    "print df[:10] #**\n",
    "print \"Número total de muestras: \",len(df)"
   ]
  },
  {
   "cell_type": "markdown",
   "metadata": {},
   "source": [
    "# y ¿Qué información contiene este dataframe?"
   ]
  },
  {
   "cell_type": "code",
   "execution_count": 169,
   "metadata": {
    "slideshow": {
     "slide_type": "slide"
    }
   },
   "outputs": [
    {
     "data": {
      "text/html": [
       "<div>\n",
       "<style scoped>\n",
       "    .dataframe tbody tr th:only-of-type {\n",
       "        vertical-align: middle;\n",
       "    }\n",
       "\n",
       "    .dataframe tbody tr th {\n",
       "        vertical-align: top;\n",
       "    }\n",
       "\n",
       "    .dataframe thead th {\n",
       "        text-align: right;\n",
       "    }\n",
       "</style>\n",
       "<table border=\"1\" class=\"dataframe\">\n",
       "  <thead>\n",
       "    <tr style=\"text-align: right;\">\n",
       "      <th></th>\n",
       "      <th>Unnamed: 0</th>\n",
       "      <th>wind</th>\n",
       "      <th>temperature_mean</th>\n",
       "    </tr>\n",
       "  </thead>\n",
       "  <tbody>\n",
       "    <tr>\n",
       "      <th>count</th>\n",
       "      <td>2801.000000</td>\n",
       "      <td>2801.000000</td>\n",
       "      <td>2801.000000</td>\n",
       "    </tr>\n",
       "    <tr>\n",
       "      <th>mean</th>\n",
       "      <td>1400.000000</td>\n",
       "      <td>8.111746</td>\n",
       "      <td>17.298108</td>\n",
       "    </tr>\n",
       "    <tr>\n",
       "      <th>std</th>\n",
       "      <td>808.723377</td>\n",
       "      <td>4.975943</td>\n",
       "      <td>8.193379</td>\n",
       "    </tr>\n",
       "    <tr>\n",
       "      <th>min</th>\n",
       "      <td>0.000000</td>\n",
       "      <td>0.000000</td>\n",
       "      <td>2.000000</td>\n",
       "    </tr>\n",
       "    <tr>\n",
       "      <th>25%</th>\n",
       "      <td>700.000000</td>\n",
       "      <td>5.000000</td>\n",
       "      <td>12.000000</td>\n",
       "    </tr>\n",
       "    <tr>\n",
       "      <th>50%</th>\n",
       "      <td>1400.000000</td>\n",
       "      <td>7.000000</td>\n",
       "      <td>16.000000</td>\n",
       "    </tr>\n",
       "    <tr>\n",
       "      <th>75%</th>\n",
       "      <td>2100.000000</td>\n",
       "      <td>10.000000</td>\n",
       "      <td>22.000000</td>\n",
       "    </tr>\n",
       "    <tr>\n",
       "      <th>max</th>\n",
       "      <td>2800.000000</td>\n",
       "      <td>43.000000</td>\n",
       "      <td>82.000000</td>\n",
       "    </tr>\n",
       "  </tbody>\n",
       "</table>\n",
       "</div>"
      ],
      "text/plain": [
       "        Unnamed: 0         wind  temperature_mean\n",
       "count  2801.000000  2801.000000       2801.000000\n",
       "mean   1400.000000     8.111746         17.298108\n",
       "std     808.723377     4.975943          8.193379\n",
       "min       0.000000     0.000000          2.000000\n",
       "25%     700.000000     5.000000         12.000000\n",
       "50%    1400.000000     7.000000         16.000000\n",
       "75%    2100.000000    10.000000         22.000000\n",
       "max    2800.000000    43.000000         82.000000"
      ]
     },
     "execution_count": 169,
     "metadata": {},
     "output_type": "execute_result"
    }
   ],
   "source": [
    "#SABEMOS analizar rapidamente que datos hay con:\n",
    "df.describe() #**"
   ]
  },
  {
   "cell_type": "code",
   "execution_count": 170,
   "metadata": {
    "slideshow": {
     "slide_type": "slide"
    }
   },
   "outputs": [
    {
     "name": "stdout",
     "output_type": "stream",
     "text": [
      "0     4.0\n",
      "1     3.0\n",
      "2    10.0\n",
      "3     6.0\n",
      "4    22.0\n",
      "5     7.0\n",
      "6    12.0\n",
      "7     6.0\n",
      "8     8.0\n",
      "9    18.0\n",
      "Name: wind, dtype: float64\n"
     ]
    }
   ],
   "source": [
    "print df.wind[:10] #mostramos los primeros 10 registros #**"
   ]
  },
  {
   "cell_type": "code",
   "execution_count": 171,
   "metadata": {
    "slideshow": {
     "slide_type": "slide"
    }
   },
   "outputs": [
    {
     "data": {
      "text/plain": [
       "<matplotlib.axes._subplots.AxesSubplot at 0x11e5bf150>"
      ]
     },
     "execution_count": 171,
     "metadata": {},
     "output_type": "execute_result"
    },
    {
     "data": {
      "image/png": "[encoded data removed]",
      "text/plain": [
       "<Figure size 432x288 with 1 Axes>"
      ]
     },
     "metadata": {},
     "output_type": "display_data"
    }
   ],
   "source": [
    "#E incluso podemos visualizar la distribución de los mismos\n",
    "df.wind.plot(kind=\"hist\") #**"
   ]
  },
  {
   "cell_type": "code",
   "execution_count": 172,
   "metadata": {},
   "outputs": [
    {
     "name": "stdout",
     "output_type": "stream",
     "text": [
      "8.11174580507\n",
      "17.0\n"
     ]
    }
   ],
   "source": [
    "print df.wind.mean() #** Calculamos el viento medio de todos los registros\n",
    "print df.wind[10].mean() # el viento medio de los diez primeros registros\n",
    "\n",
    "#Alerta!!! Los registros suelen estar ordenados según la secuencia del fichero CSV pero no tiene porque existir una secuencia temporal\n"
   ]
  },
  {
   "cell_type": "code",
   "execution_count": 173,
   "metadata": {
    "slideshow": {
     "slide_type": "slide"
    }
   },
   "outputs": [
    {
     "name": "stdout",
     "output_type": "stream",
     "text": [
      "AxesSubplot(0.125,0.125;0.775x0.755)\n",
      "22      53.0\n",
      "47      63.0\n",
      "60      78.0\n",
      "186     71.0\n",
      "411     64.0\n",
      "422     64.0\n",
      "713     82.0\n",
      "854     70.0\n",
      "886     64.0\n",
      "893     76.0\n",
      "1048    73.0\n",
      "1139    66.0\n",
      "1285    53.0\n",
      "1293    52.0\n",
      "1307    78.0\n",
      "1323    72.0\n",
      "1324    67.0\n",
      "1326    60.0\n",
      "1367    53.0\n",
      "1475    54.0\n",
      "1530    73.0\n",
      "1546    63.0\n",
      "1596    78.0\n",
      "1801    76.0\n",
      "1839    78.0\n",
      "1840    79.0\n",
      "1855    78.0\n",
      "2084    56.0\n",
      "2211    73.0\n",
      "2285    54.0\n",
      "2364    80.0\n",
      "2407    82.0\n",
      "Name: temperature_mean, dtype: float64\n"
     ]
    },
    {
     "data": {
      "image/png": "[encoded data removed]",
      "text/plain": [
       "<Figure size 432x288 with 1 Axes>"
      ]
     },
     "metadata": {},
     "output_type": "display_data"
    }
   ],
   "source": [
    "#Lo mismo con otras columnas/series\n",
    "print df.temperature_mean.plot(kind=\"hist\")\n",
    "#He incluso podemos detectar valores posiblemente anómalos: Grados por encima de 50º ?????\n",
    "print df.temperature_mean[df.temperature_mean>50]"
   ]
  },
  {
   "cell_type": "markdown",
   "metadata": {
    "slideshow": {
     "slide_type": "slide"
    }
   },
   "source": [
    "# Pero... ¿Cómo podría sacar la temperatura media de un año?¿o la temperatura más alta de todos los meses de julio?"
   ]
  },
  {
   "cell_type": "markdown",
   "metadata": {
    "slideshow": {
     "slide_type": "subslide"
    }
   },
   "source": [
    "## Podemos convertirla en una serie temporal"
   ]
  },
  {
   "cell_type": "markdown",
   "metadata": {
    "slideshow": {
     "slide_type": "slide"
    }
   },
   "source": [
    "## Nuestros dataframes suelen tener un índice, en este caso es númerico. "
   ]
  },
  {
   "cell_type": "code",
   "execution_count": 174,
   "metadata": {},
   "outputs": [
    {
     "name": "stdout",
     "output_type": "stream",
     "text": [
      "('Indices', RangeIndex(start=0, stop=2801, step=1))\n"
     ]
    }
   ],
   "source": [
    "print (\"Indices\",df.index)"
   ]
  },
  {
   "cell_type": "code",
   "execution_count": 175,
   "metadata": {},
   "outputs": [
    {
     "name": "stdout",
     "output_type": "stream",
     "text": [
      "[0, 1, 2, 3, 4, 5, 6, 7, 8, 9]\n",
      "RangeIndex(start=0, stop=6, step=1)\n",
      "Datos de la serie:\n",
      "0\n",
      "1\n",
      "2\n",
      "3\n",
      "4\n",
      "5\n"
     ]
    }
   ],
   "source": [
    "#En el fondo es \"todo igual\" una lista de cosas\n",
    "print range(0,10,1) #Esto genera una lista de enteros\n",
    "print pd.RangeIndex(0,6,1) #Esto genera una lista de indices\n",
    "print (\"Datos de la serie:\")\n",
    "for x in pd.RangeIndex(0,6,1):\n",
    "    print x"
   ]
  },
  {
   "cell_type": "markdown",
   "metadata": {
    "slideshow": {
     "slide_type": "slide"
    }
   },
   "source": [
    "## Asignamos al indice una lista de tiempos!"
   ]
  },
  {
   "cell_type": "code",
   "execution_count": 176,
   "metadata": {
    "slideshow": {
     "slide_type": "-"
    }
   },
   "outputs": [
    {
     "name": "stdout",
     "output_type": "stream",
     "text": [
      "0       2015/11/28\n",
      "1       2015/11/29\n",
      "2       2012/06/19\n",
      "3       2015/11/20\n",
      "4       2015/11/21\n",
      "5       2015/11/22\n",
      "6       2015/11/23\n",
      "7       2015/11/24\n",
      "8       2015/11/25\n",
      "9       2015/11/26\n",
      "10      2015/11/27\n",
      "11      2013/10/25\n",
      "12      2013/10/24\n",
      "13      2013/10/27\n",
      "14      2013/10/26\n",
      "15      2013/10/21\n",
      "16      2013/10/20\n",
      "17      2013/10/23\n",
      "18      2013/10/22\n",
      "19      2007/05/19\n",
      "20      2013/10/29\n",
      "21      2013/10/28\n",
      "22      2012/10/28\n",
      "23      2012/10/29\n",
      "24      2011/06/17\n",
      "25      2012/10/20\n",
      "26      2012/10/21\n",
      "27      2012/10/22\n",
      "28      2012/10/23\n",
      "29      2012/10/24\n",
      "           ...    \n",
      "2771    2009/09/24\n",
      "2772    2009/07/18\n",
      "2773    2012/10/19\n",
      "2774    2009/07/12\n",
      "2775    2009/07/14\n",
      "2776    2009/07/17\n",
      "2777    2015/10/13\n",
      "2778    2008/05/05\n",
      "2779    2009/09/25\n",
      "2780    2008/05/06\n",
      "2781    2008/05/01\n",
      "2782    2009/08/06\n",
      "2783    2008/05/03\n",
      "2784    2009/08/09\n",
      "2785    2009/08/08\n",
      "2786    2007/03/09\n",
      "2787    2009/01/12\n",
      "2788    2009/01/11\n",
      "2789    2009/01/10\n",
      "2790    2009/01/17\n",
      "2791    2009/01/16\n",
      "2792    2009/01/15\n",
      "2793    2009/01/18\n",
      "2794    2009/08/07\n",
      "2795    2010/07/13\n",
      "2796    2006/10/08\n",
      "2797    2016/04/08\n",
      "2798    2007/10/26\n",
      "2799    2009/09/13\n",
      "2800    2011/10/18\n",
      "Name: idDate, Length: 2801, dtype: object\n",
      "<type 'str'>\n",
      "DatetimeIndex(['2015-11-28', '2015-11-29', '2012-06-19', '2015-11-20',\n",
      "               '2015-11-21', '2015-11-22', '2015-11-23', '2015-11-24',\n",
      "               '2015-11-25', '2015-11-26',\n",
      "               ...\n",
      "               '2009-01-16', '2009-01-15', '2009-01-18', '2009-08-07',\n",
      "               '2010-07-13', '2006-10-08', '2016-04-08', '2007-10-26',\n",
      "               '2009-09-13', '2011-10-18'],\n",
      "              dtype='datetime64[ns]', name=u'idDate', length=2801, freq=None)\n"
     ]
    }
   ],
   "source": [
    "#¿Qué tipo de información debemos de asignar al indice para tener una serie temporal?\n",
    "from pandas import DatetimeIndex\n",
    "print df[\"idDate\"]\n",
    "\n",
    "print type(df[\"idDate\"][0])\n",
    "\n",
    "df.index = DatetimeIndex(df[\"idDate\"]) #ALERTA!!! El índice es una serie por lo que podemos modificar sus valores. \n",
    "\n",
    "print df.index"
   ]
  },
  {
   "cell_type": "code",
   "execution_count": 177,
   "metadata": {
    "slideshow": {
     "slide_type": "slide"
    }
   },
   "outputs": [
    {
     "name": "stdout",
     "output_type": "stream",
     "text": [
      "            Unnamed: 0      idDate  wind  temperature_mean\n",
      "idDate                                                    \n",
      "2015-11-28           0  2015/11/28   4.0              12.0\n",
      "2015-11-29           1  2015/11/29   3.0              12.0\n",
      "2015-11-20           3  2015/11/20   6.0              14.0\n",
      "2015-11-21           4  2015/11/21  22.0              15.0\n",
      "2015-11-22           5  2015/11/22   7.0              10.0\n",
      "2015-11-23           6  2015/11/23  12.0               8.0\n",
      "2015-11-24           7  2015/11/24   6.0               8.0\n",
      "2015-11-25           8  2015/11/25   8.0               9.0\n",
      "2015-11-26           9  2015/11/26  18.0              14.0\n",
      "2015-11-27          10  2015/11/27  17.0              12.0\n",
      "idDate\n",
      "2015-11-26    18.0\n",
      "2015-11-27    17.0\n",
      "2015-10-09     6.0\n",
      "2015-10-08     7.0\n",
      "2015-10-05    11.0\n",
      "2015-10-04     6.0\n",
      "2015-10-07     7.0\n",
      "2015-10-06    15.0\n",
      "2015-10-01     8.0\n",
      "2015-10-03     5.0\n",
      "Name: wind, dtype: float64\n"
     ]
    }
   ],
   "source": [
    "#Ahora nuestro datraframe(.index) es una serie temporal!\n",
    "#y por ejemplo, la selección de datos (filas) se SIMPLIFICA enormemente\n",
    "#Primer caso: podemos seleccionar muestras por años\n",
    "print df[\"2015\"][:10] #seleccionamos las 10 primeras muestras de un año #**\n",
    "print df[\"2015\"].wind[8:18] #seleccionamos las 8º-17º primeras muestras de una serie de un año #**"
   ]
  },
  {
   "cell_type": "code",
   "execution_count": 178,
   "metadata": {
    "slideshow": {
     "slide_type": "slide"
    }
   },
   "outputs": [
    {
     "name": "stdout",
     "output_type": "stream",
     "text": [
      "        Unnamed: 0       wind  temperature_mean\n",
      "count    31.000000  31.000000         31.000000\n",
      "mean    850.903226   6.516129          9.290323\n",
      "std     202.153301   5.926612          1.716460\n",
      "min     460.000000   1.000000          6.000000\n",
      "25%     676.500000   3.000000          8.000000\n",
      "50%     908.000000   5.000000          9.000000\n",
      "75%     915.500000   7.000000         10.000000\n",
      "max    1165.000000  27.000000         14.000000\n",
      "--------------------------------------------------\n",
      "count    64.000000\n",
      "mean      8.406250\n",
      "std       4.370604\n",
      "min       3.000000\n",
      "25%       5.750000\n",
      "50%       7.000000\n",
      "75%      10.000000\n",
      "max      23.000000\n",
      "Name: wind, dtype: float64\n"
     ]
    }
   ],
   "source": [
    "#Ahora con meses...\n",
    "print df[\"01/2015\"].describe()\n",
    "print \"-\"*50\n",
    "print df[\"01/2006\":\"01/2007\"].wind.describe()"
   ]
  },
  {
   "cell_type": "code",
   "execution_count": 179,
   "metadata": {
    "slideshow": {
     "slide_type": "slide"
    }
   },
   "outputs": [
    {
     "name": "stdout",
     "output_type": "stream",
     "text": [
      "Viento medio en 2015 sobre Mallorca: 7.586301\n",
      "Viento medio en 2014 sobre Mallorca: 8.123288\n"
     ]
    }
   ],
   "source": [
    "#Por tanto, se simplifica las operaciones útiles sobre los datos\n",
    "print \"Viento medio en 2015 sobre Mallorca: %f\" %df[\"2015\"].wind.mean()\n",
    "print \"Viento medio en 2014 sobre Mallorca: %f\" %df[\"2014\"].wind.mean()"
   ]
  },
  {
   "cell_type": "code",
   "execution_count": null,
   "metadata": {
    "slideshow": {
     "slide_type": "slide"
    }
   },
   "outputs": [],
   "source": []
  },
  {
   "cell_type": "code",
   "execution_count": 180,
   "metadata": {
    "slideshow": {
     "slide_type": "slide"
    }
   },
   "outputs": [
    {
     "name": "stdout",
     "output_type": "stream",
     "text": [
      "Max. year:  2016\n",
      "Min. year:  2005\n",
      "[2005, 2006, 2007, 2008, 2009, 2010, 2011, 2012, 2013, 2014, 2015]\n"
     ]
    }
   ],
   "source": [
    "### Podemos intentar mostrar el viento medio de cada año haciendo esto:\n",
    "yearMax = df.index.max().year\n",
    "print \"Max. year: \",yearMax\n",
    "yearMin = df.index.min().year\n",
    "print \"Min. year: \",yearMin\n",
    "print range(yearMin,yearMax)"
   ]
  },
  {
   "cell_type": "code",
   "execution_count": 181,
   "metadata": {
    "slideshow": {
     "slide_type": "-"
    }
   },
   "outputs": [
    {
     "name": "stdout",
     "output_type": "stream",
     "text": [
      "Viento medio en 2005 sobre Mallorca: 8.666667\n",
      "Viento medio en 2006 sobre Mallorca: 8.400000\n",
      "Viento medio en 2007 sobre Mallorca: 9.078652\n",
      "Viento medio en 2008 sobre Mallorca: 8.859756\n",
      "Viento medio en 2009 sobre Mallorca: 7.941634\n",
      "Viento medio en 2010 sobre Mallorca: 7.611842\n",
      "Viento medio en 2011 sobre Mallorca: 7.471429\n",
      "Viento medio en 2012 sobre Mallorca: 7.980822\n",
      "Viento medio en 2013 sobre Mallorca: 8.726027\n",
      "Viento medio en 2014 sobre Mallorca: 8.123288\n",
      "Viento medio en 2015 sobre Mallorca: 7.586301\n",
      "[8.666666666666666, 8.4, 9.07865168539326, 8.859756097560975, 7.941634241245136, 7.6118421052631575, 7.4714285714285715, 7.980821917808219, 8.726027397260275, 8.123287671232877, 7.586301369863014]\n"
     ]
    }
   ],
   "source": [
    "viento =[]\n",
    "for year in range(yearMin,yearMax):\n",
    "    print \"Viento medio en %i sobre Mallorca: %f\" %(year,df[str(year)].wind.mean())\n",
    "    viento.append(df[str(year)].wind.mean())\n",
    "    \n",
    "print viento"
   ]
  },
  {
   "cell_type": "code",
   "execution_count": 182,
   "metadata": {
    "slideshow": {
     "slide_type": "slide"
    }
   },
   "outputs": [
    {
     "name": "stdout",
     "output_type": "stream",
     "text": [
      "idDate\n",
      "2005    8.666667\n",
      "2006    8.400000\n",
      "2007    9.078652\n",
      "2008    8.859756\n",
      "2009    7.941634\n",
      "2010    7.611842\n",
      "2011    7.471429\n",
      "2012    7.980822\n",
      "2013    8.726027\n",
      "2014    8.123288\n",
      "2015    7.586301\n",
      "2016    9.831933\n",
      "Name: wind, dtype: float64\n"
     ]
    }
   ],
   "source": [
    "# O lo mismo, pero más sencillo: agrupando por años!\n",
    "year_wind = df.groupby(df.index.year).mean()[\"wind\"] #**\n",
    "print year_wind"
   ]
  },
  {
   "cell_type": "code",
   "execution_count": 183,
   "metadata": {
    "slideshow": {
     "slide_type": "slide"
    }
   },
   "outputs": [
    {
     "data": {
      "text/plain": [
       "<matplotlib.axes._subplots.AxesSubplot at 0x1c20868390>"
      ]
     },
     "execution_count": 183,
     "metadata": {},
     "output_type": "execute_result"
    },
    {
     "data": {
      "image/png": "[encoded data removed]",
      "text/plain": [
       "<Figure size 432x288 with 1 Axes>"
      ]
     },
     "metadata": {},
     "output_type": "display_data"
    }
   ],
   "source": [
    "year_wind.plot(kind=\"bar\")"
   ]
  },
  {
   "cell_type": "code",
   "execution_count": 184,
   "metadata": {
    "slideshow": {
     "slide_type": "slide"
    }
   },
   "outputs": [
    {
     "data": {
      "text/plain": [
       "False"
      ]
     },
     "execution_count": 184,
     "metadata": {},
     "output_type": "execute_result"
    }
   ],
   "source": [
    "# Podemos averiguar relaciones entre años: ¿Hizo más viento de media en 2015 que en 2012?\n",
    "df[\"2015\"].mean()[\"wind\"]>df[\"2012\"].mean()[\"wind\"]"
   ]
  },
  {
   "cell_type": "markdown",
   "metadata": {
    "slideshow": {
     "slide_type": "slide"
    }
   },
   "source": [
    "## Para realizar análisis más rigurosos necesitamos comprender como trata Pandas las series de tiempo. \n",
    "- Transformar series temporales\n",
    "- Completar o rellenar con valores \n",
    "- Crear series temporales sobre valores sin marcas de tiempo\n"
   ]
  },
  {
   "cell_type": "code",
   "execution_count": 185,
   "metadata": {
    "scrolled": true,
    "slideshow": {
     "slide_type": "slide"
    }
   },
   "outputs": [
    {
     "name": "stdout",
     "output_type": "stream",
     "text": [
      "DatetimeIndex(['2015-11-28', '2015-11-29', '2012-06-19', '2015-11-20',\n",
      "               '2015-11-21', '2015-11-22', '2015-11-23', '2015-11-24',\n",
      "               '2015-11-25', '2015-11-26'],\n",
      "              dtype='datetime64[ns]', name=u'idDate', freq=None)\n"
     ]
    }
   ],
   "source": [
    "print df.index[:10] # Nuestro indice está formado por una lista de fechas"
   ]
  },
  {
   "cell_type": "markdown",
   "metadata": {
    "slideshow": {
     "slide_type": "slide"
    }
   },
   "source": [
    "### Las fechas tienen COMPONENTES"
   ]
  },
  {
   "cell_type": "code",
   "execution_count": 205,
   "metadata": {},
   "outputs": [
    {
     "name": "stdout",
     "output_type": "stream",
     "text": [
      "2015-11-28 00:00:00\n",
      "2015\n",
      "28\n",
      "False\n",
      "0\n",
      "0\n"
     ]
    }
   ],
   "source": [
    "value = df.index[0]\n",
    "print value\n",
    "print value.year\n",
    "print value.day\n",
    "print value.is_quarter_start\n",
    "print value.second\n",
    "print value.microsecond"
   ]
  },
  {
   "cell_type": "markdown",
   "metadata": {
    "slideshow": {
     "slide_type": "slide"
    }
   },
   "source": [
    "#### Componentes"
   ]
  },
  {
   "cell_type": "markdown",
   "metadata": {},
   "source": [
    "<img src=\"files/timecomponentes.png\">"
   ]
  },
  {
   "cell_type": "markdown",
   "metadata": {
    "slideshow": {
     "slide_type": "slide"
    }
   },
   "source": [
    "### y son listas! Al igual que podemos crear listas númericas, también podemos crear listas de tiempos: "
   ]
  },
  {
   "cell_type": "code",
   "execution_count": 186,
   "metadata": {},
   "outputs": [
    {
     "name": "stdout",
     "output_type": "stream",
     "text": [
      "A:  [1, 2, 3, 4, 5, 6, 7, 8, 9]\n",
      "B:  [1, 3, 5, 7, 9]\n",
      "C:  [[0 4 4 3]\n",
      " [0 4 3 0]]\n",
      "TIEMPO: DatetimeIndex(['2000-01-31', '2000-02-29', '2000-03-31', '2000-04-30',\n",
      "               '2000-05-31', '2000-06-30', '2000-07-31', '2000-08-31',\n",
      "               '2000-09-30', '2000-10-31', '2000-11-30', '2000-12-31',\n",
      "               '2001-01-31'],\n",
      "              dtype='datetime64[ns]', freq='M')\n"
     ]
    }
   ],
   "source": [
    "print \"A: \",range(1,10)\n",
    "print \"B: \",range(1,10,2)\n",
    "\n",
    "import numpy as np\n",
    "print \"C: \",np.random.randint(5, size=(2, 4))\n",
    "\n",
    "index = pd.date_range('2000-1-1', periods=13, freq='M')\n",
    "print \"TIEMPO:\", index"
   ]
  },
  {
   "cell_type": "markdown",
   "metadata": {
    "slideshow": {
     "slide_type": "slide"
    }
   },
   "source": [
    "### La frecuencia nos permite definir el periodo de tiempo \n",
    "## Tipos de frecuencia predefinidos\n",
    "\n",
    "- B       business day frequency\n",
    "- C       custom business day frequency (experimental)\n",
    "- D       calendar day frequency\n",
    "- W       weekly frequency\n",
    "- M       month end frequency\n",
    "- BM      business month end frequency\n",
    "- CBM     custom business month end frequency\n",
    "- MS      month start frequency\n",
    "- BMS     business month start frequency\n",
    "- CBMS    custom business month start frequency\n",
    "- Q       quarter end frequency\n",
    "- BQ      business quarter endfrequency\n",
    "- QS      quarter start frequency\n",
    "- BQS     business quarter start frequency\n",
    "- A       year end frequency\n",
    "- BA      business year end frequency\n",
    "- AS      year start frequency\n",
    "- BAS     business year start frequency\n",
    "- BH      business hour frequency\n",
    "- H       hourly frequency\n",
    "- T       minutely frequency\n",
    "- S       secondly frequency\n",
    "- L       milliseonds\n",
    "- U       microseconds\n",
    "- N       nanoseconds\n"
   ]
  },
  {
   "cell_type": "code",
   "execution_count": 187,
   "metadata": {
    "slideshow": {
     "slide_type": "slide"
    }
   },
   "outputs": [
    {
     "name": "stdout",
     "output_type": "stream",
     "text": [
      "DatetimeIndex(['2000-01-01', '2000-02-01', '2000-03-01', '2000-04-01',\n",
      "               '2000-05-01'],\n",
      "              dtype='datetime64[ns]', freq='MS')\n",
      "DatetimeIndex(['2000-01-31', '2000-02-29', '2000-03-31', '2000-04-28',\n",
      "               '2000-05-31'],\n",
      "              dtype='datetime64[ns]', freq='BM')\n",
      "DatetimeIndex(['2000-01-01 00:00:00', '2000-01-01 02:30:00',\n",
      "               '2000-01-01 05:00:00', '2000-01-01 07:30:00',\n",
      "               '2000-01-01 10:00:00'],\n",
      "              dtype='datetime64[ns]', freq='150T')\n"
     ]
    }
   ],
   "source": [
    "index = pd.date_range('2000-1-1', periods=5, freq='MS')\n",
    "print index\n",
    "index = pd.date_range('2000-1-1', periods=5, freq='BM')\n",
    "print index\n",
    "index = pd.date_range('2000-1-1', periods=5, freq=\"2H30T\")\n",
    "print index"
   ]
  },
  {
   "cell_type": "markdown",
   "metadata": {
    "slideshow": {
     "slide_type": "slide"
    }
   },
   "source": [
    "### Sobre las fechas podemos realizar operaciones\n",
    "- Sumas y diferencias de fechas sobre fechas\n"
   ]
  },
  {
   "cell_type": "code",
   "execution_count": 189,
   "metadata": {},
   "outputs": [
    {
     "name": "stdout",
     "output_type": "stream",
     "text": [
      "2017-07-17 10:30:00\n",
      "2017-07-18 10:30:00\n",
      "2017-07-17 11:29:00\n",
      "2017-06-17 10:30:00\n"
     ]
    },
    {
     "data": {
      "text/plain": [
       "7"
      ]
     },
     "execution_count": 189,
     "metadata": {},
     "output_type": "execute_result"
    }
   ],
   "source": [
    "from pandas.tseries.offsets import * #En esta librería tenemos offsets predefinidos \n",
    "dia = pd.datetime(2017,7,17,10,30)\n",
    "print dia\n",
    "print dia + Day()\n",
    "print dia + Minute(59)\n",
    "print dia - Day(30)\n",
    "dia.month\n"
   ]
  },
  {
   "cell_type": "code",
   "execution_count": 190,
   "metadata": {},
   "outputs": [
    {
     "name": "stdout",
     "output_type": "stream",
     "text": [
      "2017-08-22 10:30:00\n"
     ]
    }
   ],
   "source": [
    "#O podemos combinarlo de una manera más genérica, através de su declaración\n",
    "print dia + DateOffset(months=1, days=5)"
   ]
  },
  {
   "cell_type": "markdown",
   "metadata": {
    "slideshow": {
     "slide_type": "slide"
    }
   },
   "source": [
    "<img src=\"files/offsets.png\">"
   ]
  },
  {
   "cell_type": "code",
   "execution_count": 191,
   "metadata": {
    "slideshow": {
     "slide_type": "slide"
    }
   },
   "outputs": [
    {
     "name": "stdout",
     "output_type": "stream",
     "text": [
      "DatetimeIndex(['2000-01-01', '2000-02-01', '2000-03-01', '2000-04-01',\n",
      "               '2000-05-01', '2000-06-01', '2000-07-01', '2000-08-01',\n",
      "               '2000-09-01', '2000-10-01'],\n",
      "              dtype='datetime64[ns]', freq='MS')\n",
      "DatetimeIndex(['2000-02-01', '2000-03-01', '2000-04-01', '2000-05-01',\n",
      "               '2000-06-01', '2000-07-01', '2000-08-01', '2000-09-01',\n",
      "               '2000-10-01', '2000-11-01'],\n",
      "              dtype='datetime64[ns]', freq='MS')\n"
     ]
    }
   ],
   "source": [
    "#Y al igual que podemos operar un escalar sobre una serie de valores, podemos operar un offset sobre una serie temporal\n",
    "index = pd.date_range('2000-1-1', periods=10, freq='MS')\n",
    "print index\n",
    "print index+DateOffset(months=1) \n"
   ]
  },
  {
   "cell_type": "markdown",
   "metadata": {
    "slideshow": {
     "slide_type": "slide"
    }
   },
   "source": [
    "# Resampling\n",
    "\n",
    "Imaginad que sobre un subconjunto de muestras podemos aplicar operaciones de agregación.\n",
    "\n",
    "Por ejemplo, ¿cuánto dinero hay disponible en un determinado periodo de tiempo?\n",
    "\n",
    "Pandas ofrece la capacidad de \"agrupar\" las muestras en otros periodos de tiempo mediante la operación de resampling"
   ]
  },
  {
   "cell_type": "code",
   "execution_count": 192,
   "metadata": {
    "slideshow": {
     "slide_type": "slide"
    }
   },
   "outputs": [
    {
     "name": "stdout",
     "output_type": "stream",
     "text": [
      "DatetimeIndex(['2000-01-01 00:00:00', '2000-01-01 00:00:01',\n",
      "               '2000-01-01 00:00:02', '2000-01-01 00:00:03',\n",
      "               '2000-01-01 00:00:04', '2000-01-01 00:00:05',\n",
      "               '2000-01-01 00:00:06', '2000-01-01 00:00:07',\n",
      "               '2000-01-01 00:00:08', '2000-01-01 00:00:09'],\n",
      "              dtype='datetime64[ns]', freq='S')\n"
     ]
    }
   ],
   "source": [
    "index = pd.date_range('2000-1-1', periods=3600, freq='S')\n",
    "print index[:10]"
   ]
  },
  {
   "cell_type": "code",
   "execution_count": 193,
   "metadata": {},
   "outputs": [
    {
     "name": "stdout",
     "output_type": "stream",
     "text": [
      "2000-01-01 00:00:00    113\n",
      "2000-01-01 00:00:01     78\n",
      "2000-01-01 00:00:02    364\n",
      "2000-01-01 00:00:03    412\n",
      "2000-01-01 00:00:04    281\n",
      "2000-01-01 00:00:05    491\n",
      "2000-01-01 00:00:06    125\n",
      "2000-01-01 00:00:07    201\n",
      "2000-01-01 00:00:08    170\n",
      "2000-01-01 00:00:09     44\n",
      "Freq: S, dtype: int64\n"
     ]
    }
   ],
   "source": [
    "# Creamos una serie de valores aleatorios entre (0,500) de tantas muestras como registros temporales \n",
    "ts = pd.Series(np.random.randint(0, 500, len(index_dump)), index=index_dump)\n",
    "print ts[:10] #**"
   ]
  },
  {
   "cell_type": "code",
   "execution_count": 194,
   "metadata": {
    "slideshow": {
     "slide_type": "slide"
    }
   },
   "outputs": [
    {
     "data": {
      "text/plain": [
       "2000-01-01 00:00:00    14306\n",
       "2000-01-01 00:01:00    14608\n",
       "2000-01-01 00:02:00    14839\n",
       "2000-01-01 00:03:00    15858\n",
       "2000-01-01 00:04:00    15994\n",
       "2000-01-01 00:05:00    14266\n",
       "2000-01-01 00:06:00    16791\n",
       "2000-01-01 00:07:00    15743\n",
       "2000-01-01 00:08:00    16205\n",
       "2000-01-01 00:09:00    16509\n",
       "2000-01-01 00:10:00    15531\n",
       "2000-01-01 00:11:00    14237\n",
       "2000-01-01 00:12:00    15547\n",
       "2000-01-01 00:13:00    14679\n",
       "2000-01-01 00:14:00    13632\n",
       "2000-01-01 00:15:00    14475\n",
       "2000-01-01 00:16:00    14062\n",
       "2000-01-01 00:17:00    13239\n",
       "2000-01-01 00:18:00    14956\n",
       "2000-01-01 00:19:00    13136\n",
       "2000-01-01 00:20:00    14952\n",
       "2000-01-01 00:21:00    15222\n",
       "2000-01-01 00:22:00    14816\n",
       "2000-01-01 00:23:00    15151\n",
       "2000-01-01 00:24:00    14694\n",
       "2000-01-01 00:25:00    15287\n",
       "2000-01-01 00:26:00    17154\n",
       "2000-01-01 00:27:00    13125\n",
       "2000-01-01 00:28:00    15515\n",
       "2000-01-01 00:29:00    14201\n",
       "2000-01-01 00:30:00    14723\n",
       "2000-01-01 00:31:00    13046\n",
       "2000-01-01 00:32:00    15633\n",
       "2000-01-01 00:33:00    13492\n",
       "2000-01-01 00:34:00    15016\n",
       "2000-01-01 00:35:00    14383\n",
       "2000-01-01 00:36:00    14392\n",
       "2000-01-01 00:37:00    13193\n",
       "2000-01-01 00:38:00    13395\n",
       "2000-01-01 00:39:00    14647\n",
       "2000-01-01 00:40:00    14359\n",
       "2000-01-01 00:41:00    14000\n",
       "2000-01-01 00:42:00    14782\n",
       "2000-01-01 00:43:00    16651\n",
       "2000-01-01 00:44:00    13612\n",
       "2000-01-01 00:45:00    12702\n",
       "2000-01-01 00:46:00    16917\n",
       "2000-01-01 00:47:00    16248\n",
       "2000-01-01 00:48:00    14432\n",
       "2000-01-01 00:49:00    13172\n",
       "2000-01-01 00:50:00    15392\n",
       "2000-01-01 00:51:00    15113\n",
       "2000-01-01 00:52:00    15202\n",
       "2000-01-01 00:53:00    13378\n",
       "2000-01-01 00:54:00    13545\n",
       "2000-01-01 00:55:00    13525\n",
       "2000-01-01 00:56:00    14054\n",
       "2000-01-01 00:57:00    13345\n",
       "2000-01-01 00:58:00    13730\n",
       "2000-01-01 00:59:00    14704\n",
       "Freq: T, dtype: int64"
      ]
     },
     "execution_count": 194,
     "metadata": {},
     "output_type": "execute_result"
    }
   ],
   "source": [
    "# Agrupamos las anteriores muestras en 1 Minuto !\n",
    "ts.resample('1Min').sum()"
   ]
  },
  {
   "cell_type": "code",
   "execution_count": 195,
   "metadata": {
    "slideshow": {
     "slide_type": "slide"
    }
   },
   "outputs": [
    {
     "data": {
      "text/plain": [
       "2000-01-01 00:00:00    498\n",
       "2000-01-01 00:01:00    496\n",
       "2000-01-01 00:02:00    481\n",
       "2000-01-01 00:03:00    492\n",
       "2000-01-01 00:04:00    499\n",
       "2000-01-01 00:05:00    498\n",
       "2000-01-01 00:06:00    495\n",
       "2000-01-01 00:07:00    486\n",
       "2000-01-01 00:08:00    495\n",
       "2000-01-01 00:09:00    497\n",
       "2000-01-01 00:10:00    499\n",
       "2000-01-01 00:11:00    480\n",
       "2000-01-01 00:12:00    495\n",
       "2000-01-01 00:13:00    481\n",
       "2000-01-01 00:14:00    487\n",
       "2000-01-01 00:15:00    498\n",
       "2000-01-01 00:16:00    486\n",
       "2000-01-01 00:17:00    468\n",
       "2000-01-01 00:18:00    486\n",
       "2000-01-01 00:19:00    492\n",
       "2000-01-01 00:20:00    481\n",
       "2000-01-01 00:21:00    492\n",
       "2000-01-01 00:22:00    484\n",
       "2000-01-01 00:23:00    496\n",
       "2000-01-01 00:24:00    490\n",
       "2000-01-01 00:25:00    486\n",
       "2000-01-01 00:26:00    487\n",
       "2000-01-01 00:27:00    498\n",
       "2000-01-01 00:28:00    495\n",
       "2000-01-01 00:29:00    498\n",
       "2000-01-01 00:30:00    496\n",
       "2000-01-01 00:31:00    495\n",
       "2000-01-01 00:32:00    498\n",
       "2000-01-01 00:33:00    497\n",
       "2000-01-01 00:34:00    493\n",
       "2000-01-01 00:35:00    476\n",
       "2000-01-01 00:36:00    481\n",
       "2000-01-01 00:37:00    487\n",
       "2000-01-01 00:38:00    479\n",
       "2000-01-01 00:39:00    484\n",
       "2000-01-01 00:40:00    494\n",
       "2000-01-01 00:41:00    492\n",
       "2000-01-01 00:42:00    497\n",
       "2000-01-01 00:43:00    494\n",
       "2000-01-01 00:44:00    491\n",
       "2000-01-01 00:45:00    493\n",
       "2000-01-01 00:46:00    499\n",
       "2000-01-01 00:47:00    497\n",
       "2000-01-01 00:48:00    481\n",
       "2000-01-01 00:49:00    487\n",
       "2000-01-01 00:50:00    485\n",
       "2000-01-01 00:51:00    495\n",
       "2000-01-01 00:52:00    478\n",
       "2000-01-01 00:53:00    492\n",
       "2000-01-01 00:54:00    480\n",
       "2000-01-01 00:55:00    495\n",
       "2000-01-01 00:56:00    497\n",
       "2000-01-01 00:57:00    485\n",
       "2000-01-01 00:58:00    498\n",
       "2000-01-01 00:59:00    497\n",
       "Freq: T, dtype: int64"
      ]
     },
     "execution_count": 195,
     "metadata": {},
     "output_type": "execute_result"
    }
   ],
   "source": [
    "ts.resample('1Min').max()"
   ]
  },
  {
   "cell_type": "markdown",
   "metadata": {
    "slideshow": {
     "slide_type": "slide"
    }
   },
   "source": [
    "### El resampling puede realizarse con frequencias INEXISTENTES.\n",
    "\n"
   ]
  },
  {
   "cell_type": "code",
   "execution_count": 196,
   "metadata": {},
   "outputs": [
    {
     "data": {
      "text/plain": [
       "2000-01-01 00:00:00.000    113.0\n",
       "2000-01-01 00:00:00.250      NaN\n",
       "2000-01-01 00:00:00.500      NaN\n",
       "2000-01-01 00:00:00.750      NaN\n",
       "2000-01-01 00:00:01.000     78.0\n",
       "2000-01-01 00:00:01.250      NaN\n",
       "2000-01-01 00:00:01.500      NaN\n",
       "2000-01-01 00:00:01.750      NaN\n",
       "2000-01-01 00:00:02.000    364.0\n",
       "2000-01-01 00:00:02.250      NaN\n",
       "2000-01-01 00:00:02.500      NaN\n",
       "2000-01-01 00:00:02.750      NaN\n",
       "2000-01-01 00:00:03.000    412.0\n",
       "Freq: 250L, dtype: float64"
      ]
     },
     "execution_count": 196,
     "metadata": {},
     "output_type": "execute_result"
    }
   ],
   "source": [
    "ts[:4].resample('250L').asfreq() # 250 Milisegundos   "
   ]
  },
  {
   "cell_type": "markdown",
   "metadata": {},
   "source": [
    "**Nota** La magnitud es el *Tipo de Frecuencia*"
   ]
  },
  {
   "cell_type": "code",
   "execution_count": 197,
   "metadata": {
    "slideshow": {
     "slide_type": "slide"
    }
   },
   "outputs": [
    {
     "name": "stdout",
     "output_type": "stream",
     "text": [
      "2000-01-01 00:00:00.000    113\n",
      "2000-01-01 00:00:00.250    113\n",
      "2000-01-01 00:00:00.500    113\n",
      "2000-01-01 00:00:00.750    113\n",
      "2000-01-01 00:00:01.000     78\n",
      "2000-01-01 00:00:01.250     78\n",
      "2000-01-01 00:00:01.500     78\n",
      "2000-01-01 00:00:01.750     78\n",
      "2000-01-01 00:00:02.000    364\n",
      "2000-01-01 00:00:02.250    364\n",
      "2000-01-01 00:00:02.500    364\n",
      "2000-01-01 00:00:02.750    364\n",
      "2000-01-01 00:00:03.000    412\n",
      "Freq: 250L, dtype: int64\n",
      "2000-01-01 00:00:00.000    113\n",
      "2000-01-01 00:00:00.250     78\n",
      "2000-01-01 00:00:00.500     78\n",
      "2000-01-01 00:00:00.750     78\n",
      "2000-01-01 00:00:01.000     78\n",
      "2000-01-01 00:00:01.250    364\n",
      "2000-01-01 00:00:01.500    364\n",
      "2000-01-01 00:00:01.750    364\n",
      "2000-01-01 00:00:02.000    364\n",
      "2000-01-01 00:00:02.250    412\n",
      "2000-01-01 00:00:02.500    412\n",
      "2000-01-01 00:00:02.750    412\n",
      "2000-01-01 00:00:03.000    412\n",
      "Freq: 250L, dtype: int64\n"
     ]
    }
   ],
   "source": [
    "#Incluso podemos rellenar valores según algún criterio\n",
    "\n",
    "print ts[:4].resample('250L').ffill()  # 250 Milisegundos (values forward)\n",
    "print ts[:4].resample('250L').bfill()  # 250 Milisegundos (values backward)\n",
    "\n"
   ]
  },
  {
   "cell_type": "code",
   "execution_count": 206,
   "metadata": {
    "slideshow": {
     "slide_type": "slide"
    }
   },
   "outputs": [
    {
     "name": "stdout",
     "output_type": "stream",
     "text": [
      "0     A\n",
      "5     B\n",
      "10    C\n",
      "dtype: object\n",
      "0     A\n",
      "1     A\n",
      "2     A\n",
      "3     A\n",
      "4     A\n",
      "5     B\n",
      "6     B\n",
      "7     B\n",
      "8     B\n",
      "9     B\n",
      "10    C\n",
      "11    C\n",
      "12    C\n",
      "13    C\n",
      "14    C\n",
      "dtype: object\n"
     ]
    }
   ],
   "source": [
    "# Expliquemos la operación FILL de otra manera\n",
    "from pandas import Series\n",
    "caso = Series(['A','B','C'],index = [0,5,10])\n",
    "print caso\n",
    "print caso.reindex(ranger,method = 'ffill')"
   ]
  },
  {
   "cell_type": "markdown",
   "metadata": {
    "slideshow": {
     "slide_type": "slide"
    }
   },
   "source": [
    "# Vamos a juntar todo lo que hemos estado viendo..."
   ]
  },
  {
   "cell_type": "code",
   "execution_count": 199,
   "metadata": {
    "slideshow": {
     "slide_type": "slide"
    }
   },
   "outputs": [
    {
     "data": {
      "text/plain": [
       "Text(0.5,1,'Temperature sampling in the Balearic Islands')"
      ]
     },
     "execution_count": 199,
     "metadata": {},
     "output_type": "execute_result"
    },
    {
     "data": {
      "image/png": "[encoded data removed]",
      "text/plain": [
       "<Figure size 432x288 with 1 Axes>"
      ]
     },
     "metadata": {},
     "output_type": "display_data"
    }
   ],
   "source": [
    "import matplotlib.pyplot as plt\n",
    "\n",
    "df= pd.read_csv(\"data/climaMallorca.csv\")  \n",
    "df.index = DatetimeIndex(df[\"idDate\"])\n",
    "temperature = df[\"temperature_mean\"][\"2006\":\"2016\"]\n",
    "\n",
    "temperature.plot(alpha=0.5, style='-',color=\"blue\")\n",
    "temperature.resample('BA').mean().plot(style=':',color=\"green\") #BA - Bussiness year\n",
    "          \n",
    "plt.legend(['input', 'resample'],loc='upper left');\n",
    "plt.xlabel('year')\n",
    "plt.ylabel('celsius')\n",
    "plt.title('Temperature sampling in the Balearic Islands')"
   ]
  },
  {
   "cell_type": "code",
   "execution_count": 218,
   "metadata": {
    "slideshow": {
     "slide_type": "slide"
    }
   },
   "outputs": [
    {
     "data": {
      "image/png": "[encoded data removed]",
      "text/plain": [
       "<Figure size 432x288 with 1 Axes>"
      ]
     },
     "metadata": {},
     "output_type": "display_data"
    }
   ],
   "source": [
    "# Sobre series temporales: medias moviles > Rolling operations\n",
    "# https://pandas.pydata.org/pandas-docs/stable/reference/api/pandas.Series.rolling.html\n",
    "# https://en.wikipedia.org/wiki/Window_function\n",
    "df= pd.read_csv(\"data/climaMallorca.csv\")  \n",
    "df.index = DatetimeIndex(df[\"idDate\"])\n",
    "temperature = df[\"temperature_mean\"][\"2006\":\"2016\"]\n",
    "\n",
    "rolling = temperature.rolling(window=10)\n",
    "\n",
    "data = pd.DataFrame({'input': temperature,\n",
    "                     'one-year rolling_mean': rolling.mean(),\n",
    "                     'one-year rolling_std': rolling.std()})\n",
    "ax = data.plot(style=['-', '--', ':'])\n"
   ]
  },
  {
   "cell_type": "code",
   "execution_count": 201,
   "metadata": {
    "slideshow": {
     "slide_type": "slide"
    }
   },
   "outputs": [
    {
     "data": {
      "text/html": [
       "<div>\n",
       "<style scoped>\n",
       "    .dataframe tbody tr th:only-of-type {\n",
       "        vertical-align: middle;\n",
       "    }\n",
       "\n",
       "    .dataframe tbody tr th {\n",
       "        vertical-align: top;\n",
       "    }\n",
       "\n",
       "    .dataframe thead th {\n",
       "        text-align: right;\n",
       "    }\n",
       "</style>\n",
       "<table border=\"1\" class=\"dataframe\">\n",
       "  <thead>\n",
       "    <tr style=\"text-align: right;\">\n",
       "      <th></th>\n",
       "      <th>temperature_mean</th>\n",
       "      <th>wind</th>\n",
       "    </tr>\n",
       "    <tr>\n",
       "      <th>idDate</th>\n",
       "      <th></th>\n",
       "      <th></th>\n",
       "    </tr>\n",
       "  </thead>\n",
       "  <tbody>\n",
       "    <tr>\n",
       "      <th>2005-06-30</th>\n",
       "      <td>25.0</td>\n",
       "      <td>14.000000</td>\n",
       "    </tr>\n",
       "    <tr>\n",
       "      <th>2006-06-30</th>\n",
       "      <td>10.0</td>\n",
       "      <td>7.684211</td>\n",
       "    </tr>\n",
       "    <tr>\n",
       "      <th>2007-06-30</th>\n",
       "      <td>9.0</td>\n",
       "      <td>9.440860</td>\n",
       "    </tr>\n",
       "    <tr>\n",
       "      <th>2008-06-30</th>\n",
       "      <td>6.0</td>\n",
       "      <td>8.105769</td>\n",
       "    </tr>\n",
       "    <tr>\n",
       "      <th>2009-06-30</th>\n",
       "      <td>5.0</td>\n",
       "      <td>8.932127</td>\n",
       "    </tr>\n",
       "    <tr>\n",
       "      <th>2010-06-30</th>\n",
       "      <td>4.0</td>\n",
       "      <td>7.602888</td>\n",
       "    </tr>\n",
       "    <tr>\n",
       "      <th>2011-06-30</th>\n",
       "      <td>4.0</td>\n",
       "      <td>7.453988</td>\n",
       "    </tr>\n",
       "    <tr>\n",
       "      <th>2012-06-30</th>\n",
       "      <td>2.0</td>\n",
       "      <td>7.453039</td>\n",
       "    </tr>\n",
       "    <tr>\n",
       "      <th>2013-06-30</th>\n",
       "      <td>5.0</td>\n",
       "      <td>9.241096</td>\n",
       "    </tr>\n",
       "    <tr>\n",
       "      <th>2014-06-30</th>\n",
       "      <td>5.0</td>\n",
       "      <td>8.221918</td>\n",
       "    </tr>\n",
       "    <tr>\n",
       "      <th>2015-06-30</th>\n",
       "      <td>3.0</td>\n",
       "      <td>7.712329</td>\n",
       "    </tr>\n",
       "    <tr>\n",
       "      <th>2016-06-30</th>\n",
       "      <td>6.0</td>\n",
       "      <td>8.062706</td>\n",
       "    </tr>\n",
       "  </tbody>\n",
       "</table>\n",
       "</div>"
      ],
      "text/plain": [
       "            temperature_mean       wind\n",
       "idDate                                 \n",
       "2005-06-30              25.0  14.000000\n",
       "2006-06-30              10.0   7.684211\n",
       "2007-06-30               9.0   9.440860\n",
       "2008-06-30               6.0   8.105769\n",
       "2009-06-30               5.0   8.932127\n",
       "2010-06-30               4.0   7.602888\n",
       "2011-06-30               4.0   7.453988\n",
       "2012-06-30               2.0   7.453039\n",
       "2013-06-30               5.0   9.241096\n",
       "2014-06-30               5.0   8.221918\n",
       "2015-06-30               3.0   7.712329\n",
       "2016-06-30               6.0   8.062706"
      ]
     },
     "execution_count": 201,
     "metadata": {},
     "output_type": "execute_result"
    }
   ],
   "source": [
    "df.resample(\"12M\").agg({\"wind\":np.mean,\"temperature_mean\":np.min})"
   ]
  },
  {
   "cell_type": "code",
   "execution_count": 202,
   "metadata": {
    "slideshow": {
     "slide_type": "slide"
    }
   },
   "outputs": [
    {
     "data": {
      "text/html": [
       "<div>\n",
       "<style scoped>\n",
       "    .dataframe tbody tr th:only-of-type {\n",
       "        vertical-align: middle;\n",
       "    }\n",
       "\n",
       "    .dataframe tbody tr th {\n",
       "        vertical-align: top;\n",
       "    }\n",
       "\n",
       "    .dataframe thead th {\n",
       "        text-align: right;\n",
       "    }\n",
       "</style>\n",
       "<table border=\"1\" class=\"dataframe\">\n",
       "  <thead>\n",
       "    <tr style=\"text-align: right;\">\n",
       "      <th></th>\n",
       "      <th>mean</th>\n",
       "      <th>amin</th>\n",
       "      <th>amax</th>\n",
       "    </tr>\n",
       "    <tr>\n",
       "      <th>idDate</th>\n",
       "      <th></th>\n",
       "      <th></th>\n",
       "      <th></th>\n",
       "    </tr>\n",
       "  </thead>\n",
       "  <tbody>\n",
       "    <tr>\n",
       "      <th>2005-06-30</th>\n",
       "      <td>14.000000</td>\n",
       "      <td>14.0</td>\n",
       "      <td>14.0</td>\n",
       "    </tr>\n",
       "    <tr>\n",
       "      <th>2006-06-30</th>\n",
       "      <td>7.684211</td>\n",
       "      <td>4.0</td>\n",
       "      <td>17.0</td>\n",
       "    </tr>\n",
       "    <tr>\n",
       "      <th>2007-06-30</th>\n",
       "      <td>9.440860</td>\n",
       "      <td>3.0</td>\n",
       "      <td>32.0</td>\n",
       "    </tr>\n",
       "    <tr>\n",
       "      <th>2008-06-30</th>\n",
       "      <td>8.105769</td>\n",
       "      <td>3.0</td>\n",
       "      <td>28.0</td>\n",
       "    </tr>\n",
       "    <tr>\n",
       "      <th>2009-06-30</th>\n",
       "      <td>8.932127</td>\n",
       "      <td>3.0</td>\n",
       "      <td>43.0</td>\n",
       "    </tr>\n",
       "    <tr>\n",
       "      <th>2010-06-30</th>\n",
       "      <td>7.602888</td>\n",
       "      <td>1.0</td>\n",
       "      <td>39.0</td>\n",
       "    </tr>\n",
       "    <tr>\n",
       "      <th>2011-06-30</th>\n",
       "      <td>7.453988</td>\n",
       "      <td>1.0</td>\n",
       "      <td>28.0</td>\n",
       "    </tr>\n",
       "    <tr>\n",
       "      <th>2012-06-30</th>\n",
       "      <td>7.453039</td>\n",
       "      <td>0.0</td>\n",
       "      <td>30.0</td>\n",
       "    </tr>\n",
       "    <tr>\n",
       "      <th>2013-06-30</th>\n",
       "      <td>9.241096</td>\n",
       "      <td>2.0</td>\n",
       "      <td>32.0</td>\n",
       "    </tr>\n",
       "    <tr>\n",
       "      <th>2014-06-30</th>\n",
       "      <td>8.221918</td>\n",
       "      <td>1.0</td>\n",
       "      <td>31.0</td>\n",
       "    </tr>\n",
       "    <tr>\n",
       "      <th>2015-06-30</th>\n",
       "      <td>7.712329</td>\n",
       "      <td>1.0</td>\n",
       "      <td>30.0</td>\n",
       "    </tr>\n",
       "    <tr>\n",
       "      <th>2016-06-30</th>\n",
       "      <td>8.062706</td>\n",
       "      <td>1.0</td>\n",
       "      <td>32.0</td>\n",
       "    </tr>\n",
       "  </tbody>\n",
       "</table>\n",
       "</div>"
      ],
      "text/plain": [
       "                 mean  amin  amax\n",
       "idDate                           \n",
       "2005-06-30  14.000000  14.0  14.0\n",
       "2006-06-30   7.684211   4.0  17.0\n",
       "2007-06-30   9.440860   3.0  32.0\n",
       "2008-06-30   8.105769   3.0  28.0\n",
       "2009-06-30   8.932127   3.0  43.0\n",
       "2010-06-30   7.602888   1.0  39.0\n",
       "2011-06-30   7.453988   1.0  28.0\n",
       "2012-06-30   7.453039   0.0  30.0\n",
       "2013-06-30   9.241096   2.0  32.0\n",
       "2014-06-30   8.221918   1.0  31.0\n",
       "2015-06-30   7.712329   1.0  30.0\n",
       "2016-06-30   8.062706   1.0  32.0"
      ]
     },
     "execution_count": 202,
     "metadata": {},
     "output_type": "execute_result"
    }
   ],
   "source": [
    "df.resample(\"12M\")[\"wind\"].agg([np.mean,np.min,np.max])"
   ]
  },
  {
   "cell_type": "code",
   "execution_count": 209,
   "metadata": {
    "slideshow": {
     "slide_type": "slide"
    }
   },
   "outputs": [
    {
     "name": "stdout",
     "output_type": "stream",
     "text": [
      "            Unnamed: 0   wind  temperature_mean\n",
      "idDate                                         \n",
      "2005-06-19        1246   14.0              25.0\n",
      "2005-06-26           0    0.0               0.0\n",
      "2005-07-03           0    0.0               0.0\n",
      "2005-07-10           0    0.0               0.0\n",
      "2005-07-17           0    0.0               0.0\n",
      "2005-07-24           0    0.0               0.0\n",
      "2005-07-31           0    0.0               0.0\n",
      "2005-08-07           0    0.0               0.0\n",
      "2005-08-14           0    0.0               0.0\n",
      "2005-08-21           0    0.0               0.0\n",
      "2005-08-28           0    0.0               0.0\n",
      "2005-09-04           0    0.0               0.0\n",
      "2005-09-11           0    0.0               0.0\n",
      "2005-09-18           0    0.0               0.0\n",
      "2005-09-25        2477    6.0              17.0\n",
      "2005-10-02           0    0.0               0.0\n",
      "2005-10-09           0    0.0               0.0\n",
      "2005-10-16           0    0.0               0.0\n",
      "2005-10-23           0    0.0               0.0\n",
      "2005-10-30           0    0.0               0.0\n",
      "2005-11-06           0    0.0               0.0\n",
      "2005-11-13           0    0.0               0.0\n",
      "2005-11-20           0    0.0               0.0\n",
      "2005-11-27           0    0.0               0.0\n",
      "2005-12-04           0    0.0               0.0\n",
      "2005-12-11           0    0.0               0.0\n",
      "2005-12-18           0    0.0               0.0\n",
      "2005-12-25           0    0.0               0.0\n",
      "2006-01-01        2045    6.0              10.0\n",
      "2006-01-08           0    0.0               0.0\n",
      "...                ...    ...               ...\n",
      "2015-11-08       15318   49.0             116.0\n",
      "2015-11-15       16485   24.0             105.0\n",
      "2015-11-22        9548   45.0              93.0\n",
      "2015-11-29          41   68.0              75.0\n",
      "2015-12-06       15470   18.0              80.0\n",
      "2015-12-13       16995   23.0              81.0\n",
      "2015-12-20       16191   16.0              90.0\n",
      "2015-12-27       15084   18.0              89.0\n",
      "2016-01-03       14499   46.0              82.0\n",
      "2016-01-10       14684  134.0             102.0\n",
      "2016-01-17       15789   79.0              69.0\n",
      "2016-01-24        8347   29.0              70.0\n",
      "2016-01-31        7601   28.0              82.0\n",
      "2016-02-07       16130   52.0              80.0\n",
      "2016-02-14       13656  134.0              98.0\n",
      "2016-02-21       11719   55.0              62.0\n",
      "2016-02-28        2012   66.0              77.0\n",
      "2016-03-06       12852   86.0              77.0\n",
      "2016-03-13        6099   24.0              25.0\n",
      "2016-03-20        6834   14.0              30.0\n",
      "2016-03-27       17745   59.0              85.0\n",
      "2016-04-03         277   15.0              32.0\n",
      "2016-04-10       11991   60.0              69.0\n",
      "2016-04-17        7092   53.0             108.0\n",
      "2016-04-24       15598   83.0             118.0\n",
      "2016-05-01        8074   30.0              63.0\n",
      "2016-05-08        2977   52.0              87.0\n",
      "2016-05-15        3303   43.0              70.0\n",
      "2016-05-22        6831   31.0              70.0\n",
      "2016-05-29        2636   13.0              16.0\n",
      "\n",
      "[572 rows x 3 columns]\n"
     ]
    }
   ],
   "source": [
    "weekly = df.resample('W').sum()\n",
    "print weekly"
   ]
  },
  {
   "cell_type": "code",
   "execution_count": 208,
   "metadata": {
    "slideshow": {
     "slide_type": "slide"
    }
   },
   "outputs": [
    {
     "data": {
      "text/plain": [
       "<matplotlib.axes._subplots.AxesSubplot at 0x1c20218b10>"
      ]
     },
     "execution_count": 208,
     "metadata": {},
     "output_type": "execute_result"
    },
    {
     "data": {
      "image/png": "[encoded data removed]",
      "text/plain": [
       "<Figure size 432x288 with 1 Axes>"
      ]
     },
     "metadata": {},
     "output_type": "display_data"
    }
   ],
   "source": [
    "weekly.temperature_mean.plot()"
   ]
  },
  {
   "cell_type": "code",
   "execution_count": 204,
   "metadata": {
    "slideshow": {
     "slide_type": "slide"
    }
   },
   "outputs": [
    {
     "data": {
      "text/plain": [
       "<matplotlib.axes._subplots.AxesSubplot at 0x11d680550>"
      ]
     },
     "execution_count": 204,
     "metadata": {},
     "output_type": "execute_result"
    },
    {
     "data": {
      "image/png": "[encoded data removed]",
      "text/plain": [
       "<Figure size 432x288 with 1 Axes>"
      ]
     },
     "metadata": {},
     "output_type": "display_data"
    }
   ],
   "source": [
    "df[\"2014\":\"2015\"].resample(\"3M\")[\"temperature_mean\"].agg([np.mean]).plot(kind=\"bar\")"
   ]
  },
  {
   "cell_type": "markdown",
   "metadata": {
    "slideshow": {
     "slide_type": "slide"
    }
   },
   "source": [
    "# Ejercicios"
   ]
  },
  {
   "cell_type": "markdown",
   "metadata": {},
   "source": [
    "### 1 Crea una serie temporal, donde figure el primer día de cada mes, durante 2 años.\n"
   ]
  },
  {
   "cell_type": "markdown",
   "metadata": {},
   "source": [
    "### 2 Genera una serie temporal donde haya una muestra cada 15 ms durante 2 horas.\n"
   ]
  },
  {
   "cell_type": "markdown",
   "metadata": {},
   "source": [
    "### Ejercicios con el fichero del \"rdu-weather-history.csv\" "
   ]
  },
  {
   "cell_type": "markdown",
   "metadata": {},
   "source": [
    "#### 3 ¿Cuál es la temperatura mínima media de cada año (en Celsius)?  Formula: (32 °F − 32) × 5 / 9 = 0 °C\n"
   ]
  },
  {
   "cell_type": "markdown",
   "metadata": {},
   "source": [
    "#### 4 ¿Qué año fue el más lluvisoso?"
   ]
  },
  {
   "cell_type": "markdown",
   "metadata": {},
   "source": [
    "#### 5 ¿Cuántos días de “29/Febrero” hay en los datos de tiempo?"
   ]
  },
  {
   "cell_type": "markdown",
   "metadata": {},
   "source": [
    "#### 6 ¿Muestra en una gráfica la profundidad media de la nieve?"
   ]
  }
 ],
 "metadata": {
  "celltoolbar": "Slideshow",
  "kernelspec": {
   "display_name": "Python 2",
   "language": "python",
   "name": "python2"
  },
  "language_info": {
   "codemirror_mode": {
    "name": "ipython",
    "version": 2
   },
   "file_extension": ".py",
   "mimetype": "text/x-python",
   "name": "python",
   "nbconvert_exporter": "python",
   "pygments_lexer": "ipython2",
   "version": "2.7.14"
  }
 },
 "nbformat": 4,
 "nbformat_minor": 1
}
